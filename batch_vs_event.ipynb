{
 "metadata": {
  "name": ""
 },
 "nbformat": 3,
 "nbformat_minor": 0,
 "worksheets": [
  {
   "cells": [
    {
     "cell_type": "code",
     "collapsed": false,
     "input": [
      "# this cell is all about the batch update/rate architecture\n",
      "\n",
      "f_batch = 1000 # Hz, 1 ms update rate\n",
      "\n",
      "k = 50 # neurons per dimension\n",
      "D = 512 # total dims\n",
      "D_sub = 16 # dims per pool\n",
      "\n",
      "N_buf = k*D*3 # number of neurons in \"buffer\" pools\n",
      "N_mult = k*4*D*2 # number of neurons in \"mutliplier\" pools\n",
      "\n",
      "# neurons * (encode_dims + decode_dims) * (3 buffer pools) * rate\n",
      "mult_rate = (N_buf * D_sub*2 + N_mult * 3) * f_batch\n",
      "print \"multiply rate = \", mult_rate, \" multplies/s\"\n",
      "print \"              = \", mult_rate/1e9, \" G multiplies/s\\n\"\n",
      "\n",
      "# 8 bits read per multiply\n",
      "# not counting accesses by the xform layer, which pale in comparison\n",
      "mem_access_rate = mult_rate * 8\n",
      "print \"mem access rate = \", mem_access_rate, \" bit/s\"\n",
      "print \"                = \", mem_access_rate/1e9, \" Gbit/s\"\n",
      "print \"    this is kind of a lowball, doesn't include xform\\n\"\n",
      "\n",
      "b = 8 # bit width of decoded value\n",
      "a = 32 # address length\n",
      "\n",
      "N_buf_pools = D/D_sub # 32 16-D ensembles combine for the 512D buffer\n",
      "FO = D*2/D_sub # each 16D guy fans out to 64 2x16 transform matrix chunks\n",
      "\n",
      "buf_2_xform = 2*N_buf_pools*FO*(D_sub*b+a) # dimensions sent between input buffer decoder and 1st xform (DFT)\n",
      "xform_2_mult = 2*D*(2*b+a) # dimensions sent between 2nd xform and multiplier encoder\n",
      "mult_2_xform = 2*D*(b+a) # between multiplier decoder and 2nd xform (invDFT)\n",
      "xform_2_buf = D*(D_sub*b+a) # between 2nd xform and output buffer encoder\n",
      "\n",
      "total_traffic = f_batch * (buf_2_xform + \n",
      "                           xform_2_mult + \n",
      "                           mult_2_xform + \n",
      "                           xform_2_buf)\n",
      "print \"total traffic = \", total_traffic, \" bit/s\"\n",
      "print \"              = \", total_traffic/1e9, \" Gbit/s\""
     ],
     "language": "python",
     "metadata": {},
     "outputs": [
      {
       "output_type": "stream",
       "stream": "stdout",
       "text": [
        "multiply rate =  3072000000  multplies/s\n",
        "              =  3.072  G multiplies/s\n",
        "\n",
        "mem access rate =  24576000000  bit/s\n",
        "                =  24.576  Gbit/s\n",
        "    this is kind of a lowball, doesn't include xform\n",
        "\n",
        "total traffic =  827392000  bit/s\n",
        "              =  0.827392  Gbit/s\n"
       ]
      }
     ],
     "prompt_number": 18
    },
    {
     "cell_type": "code",
     "collapsed": false,
     "input": [
      "# this cell is about the event-driven/spike-based architecture\n",
      "\n",
      "fmax = 200 # I sure hope this is reasonable...\n",
      "cconv_fmax_rate = 1.7e6 # pulled from my traffic simulation, rate of fmaxes of spikes being put into network\n",
      "\n",
      "total_traffic = fmax * cconv_fmax_rate*a\n",
      "print \"total traffic = \", total_traffic, \" bit/s\"\n",
      "print \"              = \", total_traffic/1e9, \" Gbit/s\\n\"\n",
      "\n",
      "h = 64 # header size\n",
      "w = 64 # size of 8ary word\n",
      "stage_rate = cconv_fmax_rate * fmax / 3 # stages are decode, transform, encode: assumes the traffic is roughly the same in all three\n",
      "# you access a header at each stage, but different numbers of ptree words depending on size of target\n",
      "mem_access_rate = cconv_fmax_rate * h + stage_rate * (2*w + w + 4*w)\n",
      "\n",
      "print \"mem access rate = \", mem_access_rate, \" bit/s\"\n",
      "print \"                = \", mem_access_rate/1e9, \" Gbit/s\\n\"\n",
      "\n",
      "\n"
     ],
     "language": "python",
     "metadata": {},
     "outputs": [
      {
       "output_type": "stream",
       "stream": "stdout",
       "text": [
        "total traffic =  10880000000.0  bit/s\n",
        "              =  10.88  Gbit/s\n",
        "\n",
        "mem access rate =  50882133333.3  bit/s\n",
        "                =  50.8821333333  Gbit/s\n",
        "\n"
       ]
      }
     ],
     "prompt_number": 17
    },
    {
     "cell_type": "code",
     "collapsed": false,
     "input": [
      "# estimate for transistor count for 8-bit wallace tree multiplier\n",
      "\n",
      "b = 8\n",
      "fa_t = 28\n",
      "and_t = 6\n",
      "\n",
      "mult_t = b**2*and_t + 4*8*fa_t + "
     ],
     "language": "python",
     "metadata": {},
     "outputs": [
      {
       "output_type": "stream",
       "stream": "stdout",
       "text": [
        "30\n"
       ]
      }
     ],
     "prompt_number": 19
    },
    {
     "cell_type": "code",
     "collapsed": false,
     "input": [],
     "language": "python",
     "metadata": {},
     "outputs": []
    }
   ],
   "metadata": {}
  }
 ]
}